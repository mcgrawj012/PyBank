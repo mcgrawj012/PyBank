{
 "cells": [
  {
   "cell_type": "code",
   "execution_count": null,
   "id": "0b0241d5",
   "metadata": {},
   "outputs": [],
   "source": []
  },
  {
   "cell_type": "code",
   "execution_count": 29,
   "id": "aa442ee1",
   "metadata": {},
   "outputs": [
    {
     "name": "stdout",
     "output_type": "stream",
     "text": [
      "Financial Analysis\n",
      "------------------------\n",
      "Total Months:86\n",
      "Average Change: $-2315.12\n",
      "Greatest Increase in Profits: Feb-2012 ($1926159)\n",
      "Greatest Increase in Profits: Sep-2013 ($-2196167)\n"
     ]
    }
   ],
   "source": [
    "from pathlib import Path\n",
    "import csv\n",
    "\n",
    "# Set path for csv\n",
    "filePath = Path(\"budget_data.csv\")\n",
    "\n",
    "# New list\n",
    "profitLosses = []\n",
    "months = []\n",
    "netChange = []\n",
    "\n",
    "\n",
    "# open csv\n",
    "with open(filePath, 'r') as csvfile:\n",
    "    csvreader = csv.reader(csvfile, delimiter =\",\")\n",
    "    csvheader = next(csvreader)\n",
    "    \n",
    " # Sort through the rows in the file and append profit/losses and months\n",
    "    for row in csvreader:\n",
    "        months.append(row[0])\n",
    "        profitLosses.append(int(row[1]))\n",
    "        \n",
    " # calculating net change of the months\n",
    "    for x in range(len(profitLosses)-1):\n",
    "        netChange.append(profitLosses[x+1]-profitLosses[x])\n",
    "        \n",
    "maxIncreaseAmount = max(netChange)\n",
    "minIncreaseAmount = min(netChange)\n",
    "        \n",
    "# Getting max and min values for profit/loss \n",
    "maxIncrease = netChange.index(max(netChange)) + 1\n",
    "minIncrease = netChange.index(min(netChange)) + 1\n",
    "\n",
    "\n",
    "\n",
    "#Printing Analysis\n",
    "\n",
    "print(\"Financial Analysis\")\n",
    "print(\"------------------------\")\n",
    "print(f\"Total Months:{len(months)}\")\n",
    "print(f\"Average Change: ${round(sum(netChange)/len(netChange),2)}\")\n",
    "print(f\"Greatest Increase in Profits: {months[maxIncrease]} (${(str(maxIncreaseAmount))})\")\n",
    "print(f\"Greatest Increase in Profits: {months[minIncrease]} (${(str(minIncreaseAmount))})\")\n",
    "\n",
    "        \n"
   ]
  },
  {
   "cell_type": "code",
   "execution_count": null,
   "id": "7518c371-5731-4838-bbb6-3b29058a1212",
   "metadata": {},
   "outputs": [],
   "source": []
  },
  {
   "cell_type": "code",
   "execution_count": null,
   "id": "27eefa7f-b744-4e1f-9e82-d8d36f0308f0",
   "metadata": {},
   "outputs": [],
   "source": []
  },
  {
   "cell_type": "code",
   "execution_count": null,
   "id": "8a8aa214-0c12-4eaf-9cd1-2de9704ea54d",
   "metadata": {},
   "outputs": [],
   "source": []
  },
  {
   "cell_type": "code",
   "execution_count": null,
   "id": "b234a8c8-a82d-46b6-9a9d-0497213c9818",
   "metadata": {},
   "outputs": [],
   "source": []
  }
 ],
 "metadata": {
  "kernelspec": {
   "display_name": "Python 3",
   "language": "python",
   "name": "python3"
  },
  "language_info": {
   "codemirror_mode": {
    "name": "ipython",
    "version": 3
   },
   "file_extension": ".py",
   "mimetype": "text/x-python",
   "name": "python",
   "nbconvert_exporter": "python",
   "pygments_lexer": "ipython3",
   "version": "3.7.10"
  }
 },
 "nbformat": 4,
 "nbformat_minor": 5
}
